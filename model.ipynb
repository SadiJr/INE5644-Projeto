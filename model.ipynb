{
 "cells": [
  {
   "cell_type": "code",
   "execution_count": null,
   "id": "cde052a4",
   "metadata": {},
   "outputs": [],
   "source": [
    "import pandas as pd\n",
    "import numpy as np\n",
    "import datetime\n",
    "import matplotlib.pyplot as plt\n",
    "\n",
    "import math\n",
    "import seaborn as sns\n",
    "import multiprocessing\n",
    "from multiprocessing import Process\n",
    "\n",
    "from sklearn.preprocessing import StandardScaler\n",
    "from sklearn.preprocessing import MinMaxScaler\n",
    "\n",
    "from sklearn.model_selection import train_test_split\n",
    "from sklearn.ensemble import RandomForestRegressor\n",
    "from sklearn import metrics\n",
    "from sklearn.linear_model import LinearRegression\n",
    "from sklearn.neighbors import KNeighborsRegressor"
   ]
  },
  {
   "cell_type": "code",
   "execution_count": null,
   "id": "f274c487",
   "metadata": {},
   "outputs": [],
   "source": [
    "class Result:\n",
    "    def __init__(self, dataset_type, random_state, test_size, algorithm_name, fit_time,\n",
    "                 figure, r_square, mea, mse, rmse, k):\n",
    "        self.dataset_type = dataset_type\n",
    "        self.random_state = random_state\n",
    "        self.test_size = test_size\n",
    "        self.algorithm_name = algorithm_name\n",
    "        self.fit_time = fit_time\n",
    "        self.figure = figure\n",
    "        self.r_square = r_square\n",
    "        self.mea = mea\n",
    "        self.mse = mse\n",
    "        self.rmse = rmse\n",
    "        self.k = k\n",
    "    \n",
    "    def print_object(self):\n",
    "        print(f\"\"\"\n",
    "        Algorithm: {self.algorithm_name}\n",
    "        Dataset: {self.dataset_type}\n",
    "        Test Size: {self.test_size}\n",
    "        Random State: {self.random_state}\n",
    "        Fit Time: {self.fit_time}\n",
    "        Figure Path: {self.figure}\n",
    "        R Square: {self.r_square}\n",
    "        MEA: {self.mea}\n",
    "        MSE: {self.mse}\n",
    "        RMSE: {self.rmse}\n",
    "        K: {self.k}\\n\\n\n",
    "        \"\"\")"
   ]
  },
  {
   "cell_type": "code",
   "execution_count": null,
   "id": "f00e4d8a",
   "metadata": {},
   "outputs": [],
   "source": [
    "results1 = multiprocessing.Manager().list()\n",
    "results2 = multiprocessing.Manager().list()\n",
    "results3 = multiprocessing.Manager().list()"
   ]
  },
  {
   "cell_type": "code",
   "execution_count": null,
   "id": "4c1cbd07",
   "metadata": {},
   "outputs": [],
   "source": [
    "def runInParallel(*fns):\n",
    "    proc = []\n",
    "    for fn in fns:\n",
    "        p = Process(target=fn)\n",
    "        p.start()\n",
    "        proc.append(p)\n",
    "    for p in proc:\n",
    "        p.join()"
   ]
  },
  {
   "cell_type": "code",
   "execution_count": null,
   "id": "6a3533bd",
   "metadata": {},
   "outputs": [],
   "source": [
    "def standard_scaler(dataset):\n",
    "    columns = dataset.columns.to_list()\n",
    "    scaler = StandardScaler() \n",
    "    scaled = scaler.fit_transform(dataset.to_numpy())\n",
    "    return pd.DataFrame(scaled, columns=columns)"
   ]
  },
  {
   "cell_type": "code",
   "execution_count": null,
   "id": "a669e20c",
   "metadata": {},
   "outputs": [],
   "source": [
    "def min_max_scaler(dataset):\n",
    "    columns = dataset.columns.to_list()\n",
    "    scaler = MinMaxScaler() \n",
    "    scaled = scaler.fit_transform(dataset.to_numpy())\n",
    "    return pd.DataFrame(scaled, columns=columns)"
   ]
  },
  {
   "cell_type": "code",
   "execution_count": null,
   "id": "51a9b1b0",
   "metadata": {},
   "outputs": [],
   "source": [
    "data1 = pd.read_csv('process.csv')\n",
    "data2 = standard_scaler(data1)\n",
    "data3 = min_max_scaler(data1)"
   ]
  },
  {
   "cell_type": "code",
   "execution_count": null,
   "id": "1bde4ddb",
   "metadata": {},
   "outputs": [],
   "source": [
    "def plotGraph(y_test, y_pred, regressorName, figName):\n",
    "    plt.figure(figsize=(10,10))\n",
    "    plt.scatter(y_test,y_pred, c='crimson')\n",
    "    plt.yscale('log')\n",
    "    plt.xscale('log')\n",
    "\n",
    "    p1 = max(max(y_pred), max(y_test))\n",
    "    p2 = min(min(y_pred), min(y_test))\n",
    "    plt.plot([p1, p2], [p1, p2], 'b-')\n",
    "    plt.xlabel('True Values', fontsize=15)\n",
    "    plt.ylabel('Predictions', fontsize=15)\n",
    "    plt.axis('equal')\n",
    "    plt.savefig(figName, format=\"svg\")\n",
    "    plt.close()"
   ]
  },
  {
   "cell_type": "code",
   "execution_count": null,
   "id": "fcd78fcc",
   "metadata": {},
   "outputs": [],
   "source": [
    "def split_test(rand, size, dataset):\n",
    "    y = dataset['new_cases'].values\n",
    "    x = dataset.drop(['new_cases'], axis=1).values\n",
    "    return train_test_split(x, y, random_state=rand, test_size=size)"
   ]
  },
  {
   "cell_type": "code",
   "execution_count": null,
   "id": "76991eeb",
   "metadata": {},
   "outputs": [],
   "source": [
    "def liner_test(name, rand, size, X_train, X_test, y_train, y_test):\n",
    "        start = datetime.datetime.now()\n",
    "        \n",
    "        regressor = LinearRegression()\n",
    "        regressor.fit(X_train, y_train)\n",
    "        y_pred = regressor.predict(X_test)\n",
    "        \n",
    "        end = datetime.datetime.now()\n",
    "        \n",
    "        figureName = f\"LN-{name}-{rand}-{size}\"\n",
    "        plotGraph(y_test, y_pred, 'Linear Regression', figureName)\n",
    "\n",
    "        r_square = (1 - ((1 - metrics.r2_score(y_test, y_pred)) * (len(y_test) - 1)) / (len(y_test) - X_train.shape[1] - 1))\n",
    "        mea = metrics.mean_absolute_error(y_test, y_pred)\n",
    "        mse = metrics.mean_squared_error(y_test, y_pred)\n",
    "        rmse = np.sqrt(metrics.mean_squared_error(y_test, y_pred))\n",
    "        \n",
    "        res = Result(name, rand, size, \"LinearRegression\", (end-start), figureName, r_square, mea, mse, rmse, 0)\n",
    "        results1.append(res)"
   ]
  },
  {
   "cell_type": "code",
   "execution_count": null,
   "id": "0997e501",
   "metadata": {},
   "outputs": [],
   "source": [
    "def rand_forest(name, rand, size, X_train, X_test, y_train, y_test):\n",
    "    start = datetime.datetime.now()\n",
    "    \n",
    "    rf = RandomForestRegressor(n_estimators = 1000 - rand, random_state = rand + 10)\n",
    "    rf.fit(X_train, y_train);\n",
    "    y_pred = rf.predict(X_test)\n",
    "    \n",
    "    end = datetime.datetime.now()\n",
    "    \n",
    "    figureName = f\"RF-{name}-{rand}-{size}\"\n",
    "    plotGraph(y_test, y_pred, 'Random Forest', figureName)\n",
    "    r_square = (1 - ((1 - metrics.r2_score(y_test, y_pred)) * (len(y_test) - 1)) / (len(y_test) - X_train.shape[1] - 1))\n",
    "    mea = metrics.mean_absolute_error(y_test, y_pred)\n",
    "    mse = metrics.mean_squared_error(y_test, y_pred)\n",
    "    rmse = np.sqrt(metrics.mean_squared_error(y_test, y_pred))\n",
    "    \n",
    "    res = Result(name, rand, size, \"RandomForest\", (end-start), figureName, r_square, mea, mse, rmse, 0)\n",
    "    results2.append(res)"
   ]
  },
  {
   "cell_type": "code",
   "execution_count": null,
   "id": "7c120033",
   "metadata": {},
   "outputs": [],
   "source": [
    "def knn_regression(name, rand, size, X_train, X_test, y_train, y_test):\n",
    "    start = datetime.datetime.now()\n",
    "    for K in range(20):\n",
    "        K = K+1\n",
    "        \n",
    "        clf = KNeighborsRegressor(n_neighbors = K)\n",
    "        clf.fit(X_train, y_train)\n",
    "        y_pred = clf.predict(X_test)\n",
    "        \n",
    "        end = datetime.datetime.now()\n",
    "        \n",
    "        figureName = f\"RF-{name}-{rand}-{size}-{K}\"\n",
    "        plotGraph(y_test, y_pred, f\"KNN with K {K}\", figureName)\n",
    "        \n",
    "        r_square = (1 - ((1 - metrics.r2_score(y_test, y_pred)) * (len(y_test) - 1)) / (len(y_test) - X_train.shape[1] - 1))\n",
    "        mea = metrics.mean_absolute_error(y_test, y_pred)\n",
    "        mse = metrics.mean_squared_error(y_test, y_pred)\n",
    "        rmse = np.sqrt(metrics.mean_squared_error(y_test, y_pred))\n",
    "        \n",
    "        res = Result(name, rand, size, \"KNN\", (end-start), figureName, r_square, mea, mse, rmse, K)\n",
    "        results3.append(res)"
   ]
  },
  {
   "cell_type": "code",
   "execution_count": null,
   "id": "628a8fc9",
   "metadata": {},
   "outputs": [],
   "source": [
    "def test1():\n",
    "    start = datetime.datetime.now()\n",
    "    first_time = True\n",
    "    for i in range(0, 11):        \n",
    "        if first_time:\n",
    "            rand = 0\n",
    "            size = 0.05\n",
    "            first_time = False\n",
    "        else:\n",
    "            rand = i * 5\n",
    "            size = i * 0.05\n",
    "        \n",
    "        X_train, X_test, y_train, y_test = split_test(rand, size, data1)\n",
    "        liner_test('Original', rand, size, X_train, X_test, y_train, y_test)\n",
    "        rand_forest('Original', rand, size, X_train, X_test, y_train, y_test)\n",
    "        knn_regression('Original', rand, size, X_train, X_test, y_train, y_test)\n",
    "        \n",
    "    end = datetime.datetime.now()\n",
    "    print(f\"\\nTest1 Time: \", end-start)"
   ]
  },
  {
   "cell_type": "code",
   "execution_count": null,
   "id": "eafb0817",
   "metadata": {},
   "outputs": [],
   "source": [
    "def test2():\n",
    "    start = datetime.datetime.now()\n",
    "    first_time = True\n",
    "    for i in range(0, 11):\n",
    "        if first_time:\n",
    "            rand = 0\n",
    "            size = 0.05\n",
    "            first_time = False\n",
    "        else:\n",
    "            rand = i * 5\n",
    "            size = i * 0.05\n",
    "        \n",
    "        X_train, X_test, y_train, y_test = split_test(rand, size, data2)\n",
    "        liner_test('Standard Scaler', rand, size, X_train, X_test, y_train, y_test)\n",
    "        rand_forest('Standard Scaler', rand, size, X_train, X_test, y_train, y_test)\n",
    "        knn_regression('Standard Scaler', rand, size, X_train, X_test, y_train, y_test)\n",
    "        \n",
    "    end = datetime.datetime.now()\n",
    "    print(f\"\\nTest2 Time: \", end-start)"
   ]
  },
  {
   "cell_type": "code",
   "execution_count": null,
   "id": "ba8b09bf",
   "metadata": {},
   "outputs": [],
   "source": [
    "def test3():\n",
    "    start = datetime.datetime.now()\n",
    "    first_time = True\n",
    "    \n",
    "    for i in range(0, 11):        \n",
    "        if first_time:\n",
    "            rand = 0\n",
    "            size = 0.05\n",
    "            first_time = False\n",
    "        else:\n",
    "            rand = i * 5\n",
    "            size = i * 0.05\n",
    "            \n",
    "        rand = int(rand)\n",
    "        X_train, X_test, y_train, y_test = split_test(rand, size, data3)\n",
    "        liner_test('MinMax Scaler', rand, size, X_train, X_test, y_train, y_test)\n",
    "        rand_forest('MinMax Scaler', rand, size, X_train, X_test, y_train, y_test)\n",
    "        knn_regression('MinMax Scaler', rand, size, X_train, X_test, y_train, y_test)\n",
    "        \n",
    "    end = datetime.datetime.now()\n",
    "    print(f\"\\nTest3 Time: \", end-start)"
   ]
  },
  {
   "cell_type": "code",
   "execution_count": null,
   "id": "b5c02b96",
   "metadata": {},
   "outputs": [],
   "source": [
    "start = datetime.datetime.now()\n",
    "print(f\"Parallel start at {start}\")\n",
    "runInParallel(test1, test2, test3)\n",
    "end = datetime.datetime.now()\n",
    "print(f\"\\n\\nParallel time: \", end-start)"
   ]
  },
  {
   "cell_type": "code",
   "execution_count": null,
   "id": "8bcd81ba",
   "metadata": {},
   "outputs": [],
   "source": [
    "for item in results2:\n",
    "    results3.append(item)\n",
    "for item in results1:\n",
    "    results3.append(item)"
   ]
  },
  {
   "cell_type": "code",
   "execution_count": null,
   "id": "2db5c0df",
   "metadata": {},
   "outputs": [],
   "source": [
    "results = list(results3)"
   ]
  },
  {
   "cell_type": "code",
   "execution_count": null,
   "id": "5b72e749",
   "metadata": {},
   "outputs": [],
   "source": [
    "results.sort(key=lambda x: x.r_square, reverse=True)\n",
    "for i in range(0, 11):\n",
    "    print(f\"Position {i}:\")\n",
    "    results[i].print_object()"
   ]
  },
  {
   "cell_type": "code",
   "execution_count": null,
   "id": "a4ab9026",
   "metadata": {},
   "outputs": [],
   "source": [
    "results.sort(key=lambda x: x.mea, reverse=False)\n",
    "for i in range(0, 11):\n",
    "    print(f\"Position {i}:\")\n",
    "    results[i].print_object()"
   ]
  },
  {
   "cell_type": "code",
   "execution_count": null,
   "id": "d699a582",
   "metadata": {},
   "outputs": [],
   "source": [
    "results.sort(key=lambda x: x.mse, reverse=False)\n",
    "for i in range(0, 11):\n",
    "    print(f\"Position {i}:\")\n",
    "    results[i].print_object()"
   ]
  },
  {
   "cell_type": "code",
   "execution_count": null,
   "id": "92e29478",
   "metadata": {},
   "outputs": [],
   "source": [
    "results.sort(key=lambda x: x.rmse, reverse=False)\n",
    "for i in range(0, 11):\n",
    "    print(f\"Position {i}:\")\n",
    "    results[i].print_object()"
   ]
  }
 ],
 "metadata": {
  "kernelspec": {
   "display_name": "multi-env",
   "language": "python",
   "name": "multi-env"
  },
  "language_info": {
   "codemirror_mode": {
    "name": "ipython",
    "version": 3
   },
   "file_extension": ".py",
   "mimetype": "text/x-python",
   "name": "python",
   "nbconvert_exporter": "python",
   "pygments_lexer": "ipython3",
   "version": "3.9.7"
  }
 },
 "nbformat": 4,
 "nbformat_minor": 5
}
